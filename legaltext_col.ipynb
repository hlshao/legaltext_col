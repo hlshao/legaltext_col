{
  "nbformat": 4,
  "nbformat_minor": 0,
  "metadata": {
    "colab": {
      "name": "legaltext_col.ipynb",
      "provenance": [],
      "toc_visible": true
    },
    "kernelspec": {
      "name": "python3",
      "display_name": "Python 3"
    },
    "language_info": {
      "name": "python"
    }
  },
  "cells": [
    {
      "cell_type": "markdown",
      "metadata": {
        "id": "KJbUUdKEl9iQ"
      },
      "source": [
        "## STEP 1: Set Env."
      ]
    },
    {
      "cell_type": "code",
      "metadata": {
        "id": "vodEIePT3Dj5"
      },
      "source": [
        "from google.colab import drive\n",
        "drive.mount('/content/drive')"
      ],
      "execution_count": null,
      "outputs": []
    },
    {
      "cell_type": "code",
      "metadata": {
        "id": "mm4nbegyd4sn"
      },
      "source": [
        "## \n",
        "%cd /content/drive/MyDrive/OOOOOOOOOOOOOOOOO\n",
        "!ls"
      ],
      "execution_count": null,
      "outputs": []
    },
    {
      "cell_type": "code",
      "metadata": {
        "id": "dnkie5bll9iS"
      },
      "source": [
        "## \n",
        "from time import sleep        # \n",
        "import requests               #\n",
        "import json                   # \n",
        "import pandas as pd           # \n",
        "## \n",
        "headers = {'user-agent': 'Mozilla/5.0 (Windows NT 10.0; Win64; x64) AppleWebKit/537.36 (KHTML, like Gecko) Chrome/90.0.4430.212 Safari/537.36'}"
      ],
      "execution_count": null,
      "outputs": []
    },
    {
      "cell_type": "markdown",
      "metadata": {
        "id": "7HlFjZQAl9iT"
      },
      "source": [
        "## STEP 2 : Check Targets Exist\n",
        "\n"
      ]
    },
    {
      "cell_type": "code",
      "metadata": {
        "id": "XcuftBE0l9iU"
      },
      "source": [
        "# \n",
        "search_url = XXX0\n",
        "link = XXX1     + search_url.split(\"/\")[4].split(\"?query=\")[1]\n",
        "# \n",
        "res = requests.get(link,headers = headers,verify=False)\n",
        "print(res, \"if 200, ok\")"
      ],
      "execution_count": null,
      "outputs": []
    },
    {
      "cell_type": "code",
      "metadata": {
        "id": "dIenw2atl9iV"
      },
      "source": [
        "#\n",
        "json.loads(res.text)"
      ],
      "execution_count": null,
      "outputs": []
    },
    {
      "cell_type": "markdown",
      "metadata": {
        "id": "tSp2YXuzl9iV"
      },
      "source": [
        "## STEP 3 : Get Contents"
      ]
    },
    {
      "cell_type": "code",
      "metadata": {
        "id": "w8WWwVoYlPdj"
      },
      "source": [
        "# \n",
        "def get_id(final_page,df_name,search_url):\n",
        "  link = XXX1 + search_url.split(\"/\")[4].split(\"?query=\")[1]\n",
        "  for page_no in range(1,final_page+1):\n",
        "    print(\"loading page: {}\".format(page_no))\n",
        "    res = requests.get(link +\"&page=\"+str(page_no), headers = headers, verify=False).text    # \n",
        "    temp_data = json.loads(res)['rows']  # \n",
        "    for each in temp_data:\n",
        "      id.append(each['identifier'])   # \n",
        "      sleep(0.5)  # \n",
        "  df_id = pd.DataFrame(id) \n",
        "  df_id.to_csv(\"{}_id.csv\".format(df_name))\n",
        "def get_data(df_name):\n",
        "  base_link = XXX1 ##\n",
        "  case_num = 1\n",
        "  for back_sec in id:\n",
        "    print(\"case_num=\" + str(case_num))\n",
        "    case_num = case_num + 1\n",
        "    print(\"loading id: {}\".format(back_sec))\n",
        "    res_each = requests.get(base_link.format(back_sec),headers = headers,verify=False).text  # \n",
        "    # \n",
        "    temp_data_each = json.loads(res_each)\n",
        "    data.append({\n",
        "        'judge_date' : temp_data_each['response']['reportBase']['identifier'].split(',')[4],  # \n",
        "        'issue' : temp_data_each['response']['reportBase']['issue'],            # \n",
        "        'type' : temp_data_each['response']['report']['type'],                  # \n",
        "        'preside_judge' : temp_data_each['response']['report']['presideJudge'], # \n",
        "        'puisne' : temp_data_each['response']['report']['puisne'],              # \n",
        "        'appellant' : temp_data_each['response']['report']['appellant'],        # \n",
        "        'defendant' : temp_data_each['response']['report']['defendant'],        # \n",
        "        'content' : temp_data_each['response']['reportBase']['content'],        # \n",
        "        'related_statute' : temp_data_each['response']['report']['statute']     # \n",
        "    })\n",
        "    sleep(0.5)\n",
        "  df1 = pd.DataFrame(data) \n",
        "  df1.to_csv(\"{}.csv\".format(df_name))\n",
        "  df1.to_excel(\"{}.xlsx\".format(df_name))\n",
        "  return df1"
      ],
      "execution_count": null,
      "outputs": []
    },
    {
      "cell_type": "code",
      "metadata": {
        "id": "8psUKIyFl9iV"
      },
      "source": [
        "# \n",
        "import requests.packages.urllib3\n",
        "requests.packages.urllib3.disable_warnings()\n",
        "\n",
        "id = []\n",
        "data = []\n",
        "\n",
        "# \n",
        "# \n",
        "\n",
        "get_id(final_page = 2, \n",
        "    df_name = \"yourfilename\",\n",
        "    search_url= XXX0)\n",
        "df1=get_data(df_name= \"yourfilename\")"
      ],
      "execution_count": null,
      "outputs": []
    },
    {
      "cell_type": "markdown",
      "source": [
        "## STEP 4 : Check Contents Okay"
      ],
      "metadata": {
        "id": "SRb13JstJ0ZE"
      }
    },
    {
      "cell_type": "code",
      "source": [
        "df1.head()"
      ],
      "metadata": {
        "id": "SZTO458IJyGX"
      },
      "execution_count": null,
      "outputs": []
    },
    {
      "cell_type": "code",
      "source": [
        "df1.shape"
      ],
      "metadata": {
        "id": "wxEcAPn6q7Ke"
      },
      "execution_count": null,
      "outputs": []
    },
    {
      "cell_type": "code",
      "source": [
        "df1['judge_date'].value_counts()"
      ],
      "metadata": {
        "id": "dP90mgpoSezQ"
      },
      "execution_count": null,
      "outputs": []
    },
    {
      "cell_type": "code",
      "source": [
        "print(df1['content'][1])"
      ],
      "metadata": {
        "id": "6AUrhayiSkYg"
      },
      "execution_count": null,
      "outputs": []
    }
  ]
}